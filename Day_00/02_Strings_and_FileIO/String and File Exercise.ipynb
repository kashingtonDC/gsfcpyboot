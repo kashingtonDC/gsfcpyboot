{
 "metadata": {
  "name": "",
  "signature": "sha256:f1d709986cf58d17d45e7eb267072d20b9c91c4d23de0d275ab5fcef95e315ec"
 },
 "nbformat": 3,
 "nbformat_minor": 0,
 "worksheets": [
  {
   "cells": [
    {
     "cell_type": "heading",
     "level": 1,
     "metadata": {},
     "source": [
      "Your job"
     ]
    },
    {
     "cell_type": "markdown",
     "metadata": {},
     "source": [
      "Write a Python program that reads in a file of data on monster movies and perform some simple processing on the data.\n",
      "\n",
      "The file has the following format:\n",
      "\n",
      "* Each line has 3 fields, separated by pipe ('|') characters.\n",
      "* The first field is the movie title.\n",
      "* The second field is the year the movie was released.\n",
      "* The third field is the list of other monsters that appeared in the movie. Name are separated by commas.\n",
      "\n",
      "Do the following:\n",
      "\n",
      "* Open the file and read in all of the data.\n",
      "* How many movies are listed?\n",
      "* Determine how many times that pesky moth (Mothra) appeared in the movies."
     ]
    }
   ],
   "metadata": {}
  }
 ]
}