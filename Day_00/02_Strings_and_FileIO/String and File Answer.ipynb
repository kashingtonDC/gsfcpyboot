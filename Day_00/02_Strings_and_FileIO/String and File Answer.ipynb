{
 "metadata": {
  "name": "",
  "signature": "sha256:dd61693cd2388f2babfde7a54d71ba204b8713989fd41504a2cfcd3181d11063"
 },
 "nbformat": 3,
 "nbformat_minor": 0,
 "worksheets": [
  {
   "cells": [
    {
     "cell_type": "code",
     "collapsed": false,
     "input": [
      "movies = []\n",
      "f = open('kaiju_movies.dat')\n",
      "f.readline()\n",
      "for line in f:\n",
      "    fields = line.split('|')\n",
      "    #print fields\n",
      "    movies.append(fields)\n",
      "f.close()\n",
      "print movies\n",
      "num_movies = len(movies)\n",
      "print \"There are %d movies.\" % num_movies\n",
      "num_mothras = 0\n",
      "for fields in movies:\n",
      "    if 'Mothra' in fields[2]:\n",
      "        num_mothras += 1\n",
      "print \"That damn moth appears %d times.\" % num_mothras"
     ],
     "language": "python",
     "metadata": {},
     "outputs": [
      {
       "output_type": "stream",
       "stream": "stdout",
       "text": [
        "[['Godzilla', '1998', 'Matthew Broderick\\n'], ['The Return of Godzilla', '1984', 'Shockirus\\n'], ['Godzilla', '1954', 'None\\n'], ['Godzilla Raids Again', '1955', 'Anguiras\\n'], ['King Kong vs. Godzilla', '1962', 'King Kong,giant octopus\\n'], ['Ghidorah, the Three-Headed Monster', '1964', 'King Ghidorah,Mothra,Rodan\\n'], ['Godzilla vs. the Sea Monster', '1966', 'Ebirah,Mothra,giant condor\\n'], ['Son of Godzilla', '1967', 'Kamacuras,Kumonga,Minilla\\n'], ['Destroy All Monsters', '1968', 'Anguiras,Baragon,Gorosaurus,King Ghidorah,Kumonga,Manda,Minilla,Mothra,Rodan,Varan\\n'], ['All Monsters Attack', '1969', 'Gabara,Minilla,Maneater\\n'], ['Godzilla vs. Hedorah', '1971', 'Hedorah\\n'], ['Godzilla vs. Megalon', '1973', 'Gigan,Jet Jaguaar,Megalon\\n'], ['Godzilla vs. Mechagodzilla', '1974', 'Anguiras,King Caesar,Mechagodzilla,Fake Godzilla\\n'], ['Terror of Mechagodzilla', '1975', 'Mechagodzilla,Titanosaurus\\n'], ['Godzilla vs. Biollante', '1989', 'Biollante\\n'], ['Godzilla vs. King Ghidorah', '1991', 'Dorat,Godzillasaurus,King Ghidorah,Mecha-King Ghidorah\\n'], ['Godzilla vs. Mothra', '1992', 'Battra,Mothra\\n'], ['Godzilla vs. Mechagodzilla II', '1993', 'Baby Godzilla,Rodan,Mechagodzilla,Mecha-King Ghidorah\\n'], ['Godzilla vs. SpaceGodzilla', '1994', 'Fairy Mothra,Little Godzilla,MOGUERA,SpaceGodzilla\\n'], ['Godzilla 2000: Millennium', '1999', 'Orga\\n'], ['Godzilla vs. Megaguiras', '2000', 'Meganulon,Meganula,Megaguiras\\n'], ['Godzilla, Mothra, and King Ghidorah: Giant Monsters All-Out Attack', '2001', 'Baragon,King Ghidorah,Mothra\\n'], ['Godzilla Against Mechagodzilla', '2002', 'Kiryu\\n'], ['Godzilla: Tokyo S.O.S.', '2003', 'Kamoebas,Kiryu,Mothra\\n'], ['Godzilla: Final Wars', '2004', 'Anguiras,Ebirah,Gigan,Hedorah,Monster X,Keizer Ghidorah,Kamacuras,King Caesar,Kumonga,Manda,Minilla,Mothra,Rodan,Zilla\\n'], ['Godzilla', '2014', 'M.U.T.O.\\n'], ['Mothra vs. Godzilla', '1964', 'Mothra\\n'], ['Invasion of Astro-Monster', '1965', 'King Ghidorah,Rodan\\n'], ['Godzilla vs. Gigan', '1972', 'Anguiras,Gigan,King Ghidorah\\n']]\n",
        "There are 29 movies.\n",
        "That damn moth appears 9 times.\n"
       ]
      }
     ],
     "prompt_number": 4
    },
    {
     "cell_type": "code",
     "collapsed": false,
     "input": [],
     "language": "python",
     "metadata": {},
     "outputs": []
    }
   ],
   "metadata": {}
  }
 ]
}