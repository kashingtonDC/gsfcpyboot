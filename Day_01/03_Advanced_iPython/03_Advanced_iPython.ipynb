{
 "cells": [
  {
   "cell_type": "markdown",
   "metadata": {},
   "source": [
    "Note:  This is basically a grab-bag of things...  \n",
    "\n",
    "# Advanced iPython"
   ]
  },
  {
   "cell_type": "markdown",
   "metadata": {},
   "source": [
    "iPython: interactive Python\n",
    "\n",
    "Many different ways to work with Python:\n",
    "\n",
    "* type 'python' from the command line\n",
    "* run a python script/program from the command line ('python my_prog.py')\n",
    "\n",
    "iPython adds functionallity and interactivity to python that makes it more useful in your day-to-day life.\n",
    "\n",
    "It is an interactive shell for the Python programming language that offers *enhanced introspection, additional shell syntax, tab completion and rich history*.\n",
    "\n",
    "    Fernando Pérez, Brian E. Granger, IPython: A System for Interactive Scientific Computing, Computing in Science and Engineering, vol. 9, no. 3, pp. 21-29, May/June 2007, doi:10.1109/MCSE.2007.53. URL: http://ipython.org"
   ]
  },
  {
   "cell_type": "markdown",
   "metadata": {
    "collapsed": false
   },
   "source": [
    "## python shell\n",
    "\n",
    "Go out of the notebook and play with the python shell.  Show some of the limitations."
   ]
  },
  {
   "cell_type": "raw",
   "metadata": {},
   "source": [
    "[user@machine ~]$ python\n",
    "Python 2.7.8 (default, Nov 18 2014, 11:55:58)\n",
    "[GCC 4.2.1 Compatible Apple LLVM 6.0 (clang-600.0.54)] on darwin\n",
    "Type \"help\", \"copyright\", \"credits\" or \"license\" for more information.\n",
    ">>>"
   ]
  },
  {
   "cell_type": "markdown",
   "metadata": {},
   "source": [
    "## run a python script\n",
    "\n",
    "Go out of the notebook and create a python script to run."
   ]
  },
  {
   "cell_type": "markdown",
   "metadata": {},
   "source": [
    "hello.py:"
   ]
  },
  {
   "cell_type": "code",
   "execution_count": 13,
   "metadata": {
    "collapsed": false
   },
   "outputs": [
    {
     "name": "stdout",
     "output_type": "stream",
     "text": [
      "Overwriting hello.py\n"
     ]
    }
   ],
   "source": [
    "%%writefile hello.py\n",
    "#!/usr/bin/env python\n",
    "def printHello():\n",
    "    print \"Hello World\"\n",
    "    \n",
    "print \"File Loaded\""
   ]
  },
  {
   "cell_type": "markdown",
   "metadata": {},
   "source": [
    "## ipython shell"
   ]
  },
  {
   "cell_type": "raw",
   "metadata": {},
   "source": [
    "[user@machine ~]$ ipython\n",
    "Python 2.7.8 (default, Nov 18 2014, 11:55:58)\n",
    "Type \"copyright\", \"credits\" or \"license\" for more information.\n",
    "\n",
    "IPython 3.1.0 -- An enhanced Interactive Python.\n",
    "?         -> Introduction and overview of IPython's features.\n",
    "%quickref -> Quick reference.\n",
    "help      -> Python's own help system.\n",
    "object?   -> Details about 'object', use 'object??' for extra details.\n",
    "\n",
    "In [1]:"
   ]
  },
  {
   "cell_type": "markdown",
   "metadata": {},
   "source": [
    "### Tab Completion and History Search is Great\n",
    "\n",
    "* Start typing and use the 'tab' key for auto complete.  Can use this on python functions, modules, variables, files, and more...\n",
    "* iPython stores history.  You can search it (ctrl-r) or you can use the up and down arrows.\n"
   ]
  },
  {
   "cell_type": "markdown",
   "metadata": {},
   "source": [
    "Run a file"
   ]
  },
  {
   "cell_type": "raw",
   "metadata": {},
   "source": [
    "In [1]: %run hello.py\n",
    "File Loaded"
   ]
  },
  {
   "cell_type": "markdown",
   "metadata": {},
   "source": [
    "Run it and get access to the functions and modules inside"
   ]
  },
  {
   "cell_type": "raw",
   "metadata": {},
   "source": [
    "In [2]: %run -i hello.py\n",
    "File Loaded\n",
    "\n",
    "In [3]: prin\n",
    "print       printHello\n",
    "\n",
    "In [3]: printHello()\n",
    "Hello World"
   ]
  },
  {
   "cell_type": "markdown",
   "metadata": {},
   "source": [
    "(notice I used 'tab' completion).  Try using the 'up' arrow and running it again.\n",
    "\n",
    "Here's something else useful:"
   ]
  },
  {
   "cell_type": "raw",
   "metadata": {},
   "source": [
    "%notebook -e mystuff.ipynb"
   ]
  },
  {
   "cell_type": "markdown",
   "metadata": {},
   "source": [
    "(what did this do...)\n",
    "\n",
    "Note that this is a 'magic command' - I'll talk about this in a bit."
   ]
  },
  {
   "cell_type": "markdown",
   "metadata": {},
   "source": [
    "### The four most helpful commands\n",
    "\n",
    "<table>\n",
    "<thead valign=\"bottom\">\n",
    "<tr class=\"row-odd\"><th class=\"head\">command</th>\n",
    "<th class=\"head\">description</th>\n",
    "</tr>\n",
    "</thead>\n",
    "<tbody valign=\"top\">\n",
    "<tr class=\"row-even\"><td>?</td>\n",
    "<td>Introduction and overview of IPython&#8217;s features.</td>\n",
    "</tr>\n",
    "<tr class=\"row-odd\"><td>%quickref</td>\n",
    "<td>Quick reference.</td>\n",
    "</tr>\n",
    "<tr class=\"row-even\"><td>help</td>\n",
    "<td>Python&#8217;s own help system.</td>\n",
    "</tr>\n",
    "<tr class=\"row-odd\"><td>object?</td>\n",
    "<td>Details about &#8216;object&#8217;, use &#8216;object??&#8217; for extra details.</td>\n",
    "</tr>\n",
    "</tbody>\n",
    "</table>"
   ]
  },
  {
   "cell_type": "markdown",
   "metadata": {},
   "source": [
    "## The notebook (ipython notebook or jupyter)\n",
    "\n",
    "How does this work...  Let's look at what it says about itself (from http://ipython.org/ipython-doc/3/notebook/notebook.html)"
   ]
  },
  {
   "cell_type": "markdown",
   "metadata": {},
   "source": [
    "###Introduction\n",
    "The notebook extends the console-based approach to interactive computing in a qualitatively new direction, providing a web-based application suitable for capturing the whole computation process: developing, documenting, and executing code, as well as communicating the results. The IPython notebook combines two components:\n",
    "\n",
    "**A web application**: a browser-based tool for interactive authoring of documents which combine explanatory text, mathematics, computations and their rich media output.\n",
    "\n",
    "**Notebook documents**: a representation of all content visible in the web application, including inputs and outputs of the computations, explanatory text, mathematics, images, and rich media representations of objects."
   ]
  },
  {
   "cell_type": "markdown",
   "metadata": {},
   "source": [
    "###Main features of the web application\n",
    "* In-browser editing for code, with automatic syntax highlighting, indentation, and tab completion/introspection.\n",
    "* The ability to execute code from the browser, with the results of computations attached to the code which generated them.\n",
    "* Displaying the result of computation using rich media representations, such as HTML, LaTeX, PNG, SVG, etc. For example, publication-quality figures rendered by the matplotlib library, \n",
    "can be included inline.\n",
    "* In-browser editing for rich text using the Markdown markup language, which can provide commentary for the code, is not limited to plain text.\n",
    "* The ability to easily include mathematical notation within markdown cells using LaTeX, and rendered natively by MathJax.\n"
   ]
  },
  {
   "cell_type": "markdown",
   "metadata": {},
   "source": [
    "### What is a notebook:\n",
    "\n",
    "It's just a JSON formatted text file.  Let's look at the really simple one we just created from the iPython interpreter."
   ]
  },
  {
   "cell_type": "code",
   "execution_count": 2,
   "metadata": {
    "collapsed": false
   },
   "outputs": [
    {
     "name": "stdout",
     "output_type": "stream",
     "text": [
      "{\r\n",
      " \"cells\": [\r\n",
      "  {\r\n",
      "   \"cell_type\": \"code\",\r\n",
      "   \"execution_count\": 1,\r\n",
      "   \"metadata\": {},\r\n",
      "   \"outputs\": [],\r\n",
      "   \"source\": [\r\n",
      "    \"%run hello.py\"\r\n",
      "   ]\r\n",
      "  },\r\n",
      "  {\r\n",
      "   \"cell_type\": \"code\",\r\n",
      "   \"execution_count\": 2,\r\n",
      "   \"metadata\": {},\r\n",
      "   \"outputs\": [],\r\n",
      "   \"source\": [\r\n",
      "    \"%run -i hello.py\"\r\n",
      "   ]\r\n",
      "  },\r\n",
      "  {\r\n",
      "   \"cell_type\": \"code\",\r\n",
      "   \"execution_count\": 3,\r\n",
      "   \"metadata\": {},\r\n",
      "   \"outputs\": [],\r\n",
      "   \"source\": [\r\n",
      "    \"printHello()\"\r\n",
      "   ]\r\n",
      "  },\r\n",
      "  {\r\n",
      "   \"cell_type\": \"code\",\r\n",
      "   \"execution_count\": 4,\r\n",
      "   \"metadata\": {},\r\n",
      "   \"outputs\": [],\r\n",
      "   \"source\": [\r\n",
      "    \"import numpy as np\"\r\n",
      "   ]\r\n",
      "  },\r\n",
      "  {\r\n",
      "   \"cell_type\": \"code\",\r\n",
      "   \"execution_count\": 5,\r\n",
      "   \"metadata\": {},\r\n",
      "   \"outputs\": [],\r\n",
      "   \"source\": [\r\n",
      "    \"np.linspace()\"\r\n",
      "   ]\r\n",
      "  }\r\n",
      " ],\r\n",
      " \"metadata\": {},\r\n",
      " \"nbformat\": 4,\r\n",
      " \"nbformat_minor\": 0\r\n",
      "}\r\n"
     ]
    }
   ],
   "source": [
    "cat mystuff.ipynb"
   ]
  },
  {
   "cell_type": "markdown",
   "metadata": {},
   "source": [
    "### Ok, backup, how do I interact with the notebook and what is it?\n",
    "\n",
    "First step, the notebook is made up of cells.  These cells can be of different types.  If you create a cell (click the '+' sign on the menu bar) then you can use the pull down to make it either \n",
    "\n",
    "* code: actual python code you want to execute\n",
    "* markdown: notes in markdown format\n",
    "* raw: raw text (like code you want to display like the json code above)\n",
    "* heading: you can make a cell a heading\n",
    "\n",
    "Let's play with the four types below:\n",
    "\n",
    "#### Code:\n"
   ]
  },
  {
   "cell_type": "code",
   "execution_count": 62,
   "metadata": {
    "collapsed": false
   },
   "outputs": [
    {
     "data": {
      "text/plain": [
       "6"
      ]
     },
     "execution_count": 62,
     "metadata": {},
     "output_type": "execute_result"
    }
   ],
   "source": [
    "2+4 "
   ]
  },
  {
   "cell_type": "markdown",
   "metadata": {},
   "source": [
    "So, you exectued this by hitting the 'play' button in the tool bar or you used 'shift-enter'.  Some other ways: \n",
    "\n",
    "* Shift-enter: run cell, go to next cell\n",
    "* Ctrl-enter: run cell in place\n",
    "* Alt-enter: run cell, insert below"
   ]
  },
  {
   "cell_type": "markdown",
   "metadata": {},
   "source": [
    "#### Markdown"
   ]
  },
  {
   "cell_type": "markdown",
   "metadata": {},
   "source": [
    "# Fancy Markdown Cell\n",
    "\n",
    "    code code code\n",
    "* Bullet 1\n",
    "* Bullet 2\n",
    "1. numbered\n",
    "2. numbered\n",
    "\n",
    "Some verbose words\n",
    "\n",
    "[Markdown Reference](http://daringfireball.net/projects/markdown/syntax)"
   ]
  },
  {
   "cell_type": "markdown",
   "metadata": {},
   "source": [
    "#### Raw text"
   ]
  },
  {
   "cell_type": "raw",
   "metadata": {},
   "source": [
    "# Fancy Markdown Cell\n",
    "\n",
    "    code code code\n",
    "* Bullet 1\n",
    "* Bullet 2\n",
    "1. numbered\n",
    "2. numbered\n",
    "\n",
    "Some verbose words\n",
    "\n",
    "[Mark Down Reference](http://daringfireball.net/projects/markdown/syntax)"
   ]
  },
  {
   "cell_type": "markdown",
   "metadata": {},
   "source": [
    "### Can I do this quickly?\n",
    "\n",
    "Yep - take a look at the 'Keyboard Shortcuts' menu.  \n",
    "\n",
    "First of all, there are two 'modes': 'command' and 'edit'.  When you're in a cell, you're in 'edit mode' and when you're out of the cell you're in 'command mode'  You go into 'command mode' by hitting 'esc' and into edit by hitting 'return'.  Try it a couple times.  Move up and down through cells with the arrow keys when in 'command mode'.\n",
    "\n",
    "*go through the keyboard shortcuts*\n",
    "\n",
    "My Favs:\n",
    "* r,m,y in command mode\n",
    "* ⌘Z : undo\n",
    "* d: delete\n",
    "* (also, cntl-e and cntl-a work in a cell, if you live in unix, you'll understand why this is awesome)\n",
    "\n",
    "Once you start getting the shortcuts down, you're crazy productive."
   ]
  },
  {
   "cell_type": "markdown",
   "metadata": {},
   "source": [
    "### Exercise: Copy and Paste is Neat\n",
    "\n",
    "Try copy and pasting our for loop code from the iPython console into a cell (only use the keyboard):"
   ]
  },
  {
   "cell_type": "markdown",
   "metadata": {},
   "source": [
    "### The menubar and toolbar\n",
    "\n",
    "Let's go over all of these functions and talk about what they do..."
   ]
  },
  {
   "cell_type": "markdown",
   "metadata": {},
   "source": [
    "## It's like Magic (functions)\n",
    "\n",
    "IPython has a set of predefined ‘magic functions’ that you can call with a command line style syntax. There are two kinds of magics, line-oriented and cell-oriented. Line magics are prefixed with the % character and work much like OS command-line calls: they get as an argument the rest of the line, where arguments are passed without parentheses or quotes. Cell magics are prefixed with a double %%, and they are functions that get as an argument not only the rest of the line, but also the lines below it in a separate argument.\n",
    "\n",
    "### Examples:\n",
    "\n",
    "You've already seen a few magic functions above (%run and %notebook).  Here's some others."
   ]
  },
  {
   "cell_type": "code",
   "execution_count": 4,
   "metadata": {
    "collapsed": false
   },
   "outputs": [
    {
     "name": "stdout",
     "output_type": "stream",
     "text": [
      "100000 loops, best of 3: 6.5 µs per loop\n"
     ]
    }
   ],
   "source": [
    "%timeit range(1000) "
   ]
  },
  {
   "cell_type": "code",
   "execution_count": 6,
   "metadata": {
    "collapsed": false
   },
   "outputs": [
    {
     "name": "stdout",
     "output_type": "stream",
     "text": [
      "1000 loops, best of 3: 235 µs per loop\n"
     ]
    }
   ],
   "source": [
    "%%timeit x = range(10000)\n",
    "max(x)"
   ]
  },
  {
   "cell_type": "code",
   "execution_count": 7,
   "metadata": {
    "collapsed": false
   },
   "outputs": [
    {
     "data": {
      "application/json": {
       "cell": {
        "!": "OSMagics",
        "HTML": "Other",
        "SVG": "Other",
        "bash": "Other",
        "capture": "ExecutionMagics",
        "debug": "ExecutionMagics",
        "file": "Other",
        "html": "DisplayMagics",
        "javascript": "DisplayMagics",
        "latex": "DisplayMagics",
        "perl": "Other",
        "prun": "ExecutionMagics",
        "pypy": "Other",
        "python": "Other",
        "python2": "Other",
        "python3": "Other",
        "ruby": "Other",
        "script": "ScriptMagics",
        "sh": "Other",
        "svg": "DisplayMagics",
        "sx": "OSMagics",
        "system": "OSMagics",
        "time": "ExecutionMagics",
        "timeit": "ExecutionMagics",
        "writefile": "OSMagics"
       },
       "line": {
        "alias": "OSMagics",
        "alias_magic": "BasicMagics",
        "autocall": "AutoMagics",
        "automagic": "AutoMagics",
        "autosave": "KernelMagics",
        "bookmark": "OSMagics",
        "cat": "Other",
        "cd": "OSMagics",
        "clear": "KernelMagics",
        "colors": "BasicMagics",
        "config": "ConfigMagics",
        "connect_info": "KernelMagics",
        "cp": "Other",
        "debug": "ExecutionMagics",
        "dhist": "OSMagics",
        "dirs": "OSMagics",
        "doctest_mode": "BasicMagics",
        "ed": "Other",
        "edit": "KernelMagics",
        "env": "OSMagics",
        "gui": "BasicMagics",
        "hist": "Other",
        "history": "HistoryMagics",
        "install_default_config": "DeprecatedMagics",
        "install_ext": "ExtensionMagics",
        "install_profiles": "DeprecatedMagics",
        "killbgscripts": "ScriptMagics",
        "ldir": "Other",
        "less": "KernelMagics",
        "lf": "Other",
        "lk": "Other",
        "ll": "Other",
        "load": "CodeMagics",
        "load_ext": "ExtensionMagics",
        "loadpy": "CodeMagics",
        "logoff": "LoggingMagics",
        "logon": "LoggingMagics",
        "logstart": "LoggingMagics",
        "logstate": "LoggingMagics",
        "logstop": "LoggingMagics",
        "ls": "Other",
        "lsmagic": "BasicMagics",
        "lx": "Other",
        "macro": "ExecutionMagics",
        "magic": "BasicMagics",
        "man": "KernelMagics",
        "matplotlib": "PylabMagics",
        "mkdir": "Other",
        "more": "KernelMagics",
        "mv": "Other",
        "notebook": "BasicMagics",
        "page": "BasicMagics",
        "pastebin": "CodeMagics",
        "pdb": "ExecutionMagics",
        "pdef": "NamespaceMagics",
        "pdoc": "NamespaceMagics",
        "pfile": "NamespaceMagics",
        "pinfo": "NamespaceMagics",
        "pinfo2": "NamespaceMagics",
        "popd": "OSMagics",
        "pprint": "BasicMagics",
        "precision": "BasicMagics",
        "profile": "BasicMagics",
        "prun": "ExecutionMagics",
        "psearch": "NamespaceMagics",
        "psource": "NamespaceMagics",
        "pushd": "OSMagics",
        "pwd": "OSMagics",
        "pycat": "OSMagics",
        "pylab": "PylabMagics",
        "qtconsole": "KernelMagics",
        "quickref": "BasicMagics",
        "recall": "HistoryMagics",
        "rehashx": "OSMagics",
        "reload_ext": "ExtensionMagics",
        "rep": "Other",
        "rerun": "HistoryMagics",
        "reset": "NamespaceMagics",
        "reset_selective": "NamespaceMagics",
        "rm": "Other",
        "rmdir": "Other",
        "run": "ExecutionMagics",
        "save": "CodeMagics",
        "sc": "OSMagics",
        "set_env": "OSMagics",
        "store": "StoreMagics",
        "sx": "OSMagics",
        "system": "OSMagics",
        "tb": "ExecutionMagics",
        "time": "ExecutionMagics",
        "timeit": "ExecutionMagics",
        "unalias": "OSMagics",
        "unload_ext": "ExtensionMagics",
        "who": "NamespaceMagics",
        "who_ls": "NamespaceMagics",
        "whos": "NamespaceMagics",
        "xdel": "NamespaceMagics",
        "xmode": "BasicMagics"
       }
      },
      "text/plain": [
       "Available line magics:\n",
       "%alias  %alias_magic  %autocall  %automagic  %autosave  %bookmark  %cat  %cd  %clear  %colors  %config  %connect_info  %cp  %debug  %dhist  %dirs  %doctest_mode  %ed  %edit  %env  %gui  %hist  %history  %install_default_config  %install_ext  %install_profiles  %killbgscripts  %ldir  %less  %lf  %lk  %ll  %load  %load_ext  %loadpy  %logoff  %logon  %logstart  %logstate  %logstop  %ls  %lsmagic  %lx  %macro  %magic  %man  %matplotlib  %mkdir  %more  %mv  %notebook  %page  %pastebin  %pdb  %pdef  %pdoc  %pfile  %pinfo  %pinfo2  %popd  %pprint  %precision  %profile  %prun  %psearch  %psource  %pushd  %pwd  %pycat  %pylab  %qtconsole  %quickref  %recall  %rehashx  %reload_ext  %rep  %rerun  %reset  %reset_selective  %rm  %rmdir  %run  %save  %sc  %set_env  %store  %sx  %system  %tb  %time  %timeit  %unalias  %unload_ext  %who  %who_ls  %whos  %xdel  %xmode\n",
       "\n",
       "Available cell magics:\n",
       "%%!  %%HTML  %%SVG  %%bash  %%capture  %%debug  %%file  %%html  %%javascript  %%latex  %%perl  %%prun  %%pypy  %%python  %%python2  %%python3  %%ruby  %%script  %%sh  %%svg  %%sx  %%system  %%time  %%timeit  %%writefile\n",
       "\n",
       "Automagic is ON, % prefix IS NOT needed for line magics."
      ]
     },
     "execution_count": 7,
     "metadata": {},
     "output_type": "execute_result"
    }
   ],
   "source": [
    "%lsmagic"
   ]
  },
  {
   "cell_type": "markdown",
   "metadata": {},
   "source": [
    "My favs..."
   ]
  },
  {
   "cell_type": "code",
   "execution_count": 8,
   "metadata": {
    "collapsed": false
   },
   "outputs": [
    {
     "name": "stdout",
     "output_type": "stream",
     "text": [
      "03_Advanced_iPython.ipynb  hello.py\r\n",
      "Running Code.ipynb         mystuff.ipynb\r\n"
     ]
    }
   ],
   "source": [
    "ls"
   ]
  },
  {
   "cell_type": "code",
   "execution_count": 9,
   "metadata": {
    "collapsed": true
   },
   "outputs": [],
   "source": [
    "%matplotlib inline"
   ]
  },
  {
   "cell_type": "markdown",
   "metadata": {},
   "source": [
    "MUCHS INFOS: https://ipython.org/ipython-doc/dev/interactive/magics.html"
   ]
  },
  {
   "cell_type": "markdown",
   "metadata": {},
   "source": [
    "Some others to try:  %edit, %capture"
   ]
  },
  {
   "cell_type": "code",
   "execution_count": 10,
   "metadata": {
    "collapsed": true
   },
   "outputs": [],
   "source": [
    "%%capture capt\n",
    "from __future__ import print_function\n",
    "import sys\n",
    "print('Hello stdout')\n",
    "print('and stderr', file=sys.stderr)"
   ]
  },
  {
   "cell_type": "code",
   "execution_count": 11,
   "metadata": {
    "collapsed": false
   },
   "outputs": [
    {
     "data": {
      "text/plain": [
       "('Hello stdout\\n', 'and stderr\\n')"
      ]
     },
     "execution_count": 11,
     "metadata": {},
     "output_type": "execute_result"
    }
   ],
   "source": [
    "capt.stdout, capt.stderr"
   ]
  },
  {
   "cell_type": "code",
   "execution_count": 12,
   "metadata": {
    "collapsed": false
   },
   "outputs": [
    {
     "name": "stdout",
     "output_type": "stream",
     "text": [
      "Hello stdout\n"
     ]
    },
    {
     "name": "stderr",
     "output_type": "stream",
     "text": [
      "and stderr\n"
     ]
    }
   ],
   "source": [
    "capt.show()"
   ]
  },
  {
   "cell_type": "markdown",
   "metadata": {},
   "source": [
    "### Magics for running code under other interpreters\n",
    "IPython has a %%script cell magic, which lets you run a cell in a subprocess of any interpreter on your system, such as: bash, ruby, perl, zsh, R, etc.\n",
    "\n",
    "It can even be a script of your own, which expects input on stdin.\n",
    "\n",
    "To use it, simply pass a path or shell command to the program you want to run on the %%script line, and the rest of the cell will be run by that script, and stdout/err from the subprocess are captured and displayed."
   ]
  },
  {
   "cell_type": "code",
   "execution_count": 15,
   "metadata": {
    "collapsed": false
   },
   "outputs": [
    {
     "name": "stdout",
     "output_type": "stream",
     "text": [
      "hello from Python 2.7.8 (default, Nov 18 2014, 11:55:58) \n",
      "[GCC 4.2.1 Compatible Apple LLVM 6.0 (clang-600.0.54)]\n"
     ]
    }
   ],
   "source": [
    "%%script python\n",
    "import sys\n",
    "print 'hello from Python %s' % sys.version"
   ]
  },
  {
   "cell_type": "code",
   "execution_count": 58,
   "metadata": {
    "collapsed": false
   },
   "outputs": [
    {
     "name": "stdout",
     "output_type": "stream",
     "text": [
      "hello from /bin/bash\n"
     ]
    }
   ],
   "source": [
    "%%bash\n",
    "echo \"hello from $BASH\""
   ]
  },
  {
   "cell_type": "markdown",
   "metadata": {},
   "source": [
    "#### Exercise: write your own script that numbers input lines\n",
    "Write a file, called lnum.py, such that the following cell works as shown (hint: don't forget about the executable bit!):"
   ]
  },
  {
   "cell_type": "code",
   "execution_count": 20,
   "metadata": {
    "collapsed": false
   },
   "outputs": [
    {
     "name": "stdout",
     "output_type": "stream",
     "text": [
      "1 : my first line\n",
      "2 : my second\n",
      "3 : more\n",
      "\n",
      "---- END ---\n"
     ]
    }
   ],
   "source": [
    "%%script ./lnum.py\n",
    "my first line\n",
    "my second\n",
    "more"
   ]
  },
  {
   "cell_type": "markdown",
   "metadata": {},
   "source": [
    "#### Hints:\n",
    "\n",
    "* Useful function: sys.stdin.readlines()\n",
    "* Another useful function: enumerate()\n",
    "\n",
    "You could use the notebook to query what these do..."
   ]
  },
  {
   "cell_type": "markdown",
   "metadata": {},
   "source": [
    "## Out and In\n",
    "\n",
    "You can access the input and output of previous cells."
   ]
  },
  {
   "cell_type": "code",
   "execution_count": 47,
   "metadata": {
    "collapsed": true
   },
   "outputs": [],
   "source": [
    "a = 3"
   ]
  },
  {
   "cell_type": "code",
   "execution_count": 48,
   "metadata": {
    "collapsed": true
   },
   "outputs": [],
   "source": [
    "b = 4"
   ]
  },
  {
   "cell_type": "code",
   "execution_count": 49,
   "metadata": {
    "collapsed": false
   },
   "outputs": [
    {
     "data": {
      "text/plain": [
       "7"
      ]
     },
     "execution_count": 49,
     "metadata": {},
     "output_type": "execute_result"
    }
   ],
   "source": [
    "a + b"
   ]
  },
  {
   "cell_type": "code",
   "execution_count": 50,
   "metadata": {
    "collapsed": false
   },
   "outputs": [
    {
     "data": {
      "text/plain": [
       "12"
      ]
     },
     "execution_count": 50,
     "metadata": {},
     "output_type": "execute_result"
    }
   ],
   "source": [
    "a*b"
   ]
  },
  {
   "cell_type": "code",
   "execution_count": 51,
   "metadata": {
    "collapsed": false
   },
   "outputs": [
    {
     "data": {
      "text/plain": [
       "-1"
      ]
     },
     "execution_count": 51,
     "metadata": {},
     "output_type": "execute_result"
    }
   ],
   "source": [
    "a - b"
   ]
  },
  {
   "cell_type": "code",
   "execution_count": 52,
   "metadata": {
    "collapsed": false
   },
   "outputs": [
    {
     "data": {
      "text/plain": [
       "-1"
      ]
     },
     "execution_count": 52,
     "metadata": {},
     "output_type": "execute_result"
    }
   ],
   "source": [
    "_"
   ]
  },
  {
   "cell_type": "code",
   "execution_count": 53,
   "metadata": {
    "collapsed": false
   },
   "outputs": [
    {
     "data": {
      "text/plain": [
       "12"
      ]
     },
     "execution_count": 53,
     "metadata": {},
     "output_type": "execute_result"
    }
   ],
   "source": [
    "___"
   ]
  },
  {
   "cell_type": "code",
   "execution_count": 55,
   "metadata": {
    "collapsed": false
   },
   "outputs": [
    {
     "data": {
      "text/plain": [
       "7"
      ]
     },
     "execution_count": 55,
     "metadata": {},
     "output_type": "execute_result"
    }
   ],
   "source": [
    "_49"
   ]
  },
  {
   "cell_type": "code",
   "execution_count": 63,
   "metadata": {
    "collapsed": false
   },
   "outputs": [
    {
     "data": {
      "text/plain": [
       "6"
      ]
     },
     "execution_count": 63,
     "metadata": {},
     "output_type": "execute_result"
    }
   ],
   "source": [
    "Out[62]"
   ]
  },
  {
   "cell_type": "code",
   "execution_count": 64,
   "metadata": {
    "collapsed": false
   },
   "outputs": [
    {
     "data": {
      "text/plain": [
       "u'Out[62]'"
      ]
     },
     "execution_count": 64,
     "metadata": {},
     "output_type": "execute_result"
    }
   ],
   "source": [
    "_i"
   ]
  },
  {
   "cell_type": "code",
   "execution_count": 66,
   "metadata": {
    "collapsed": false
   },
   "outputs": [
    {
     "data": {
      "text/plain": [
       "u'a*b'"
      ]
     },
     "execution_count": 66,
     "metadata": {},
     "output_type": "execute_result"
    }
   ],
   "source": [
    "In[50]"
   ]
  },
  {
   "cell_type": "markdown",
   "metadata": {},
   "source": [
    "### Running Shell Commands\n",
    "\n",
    "There are some magics for some shell commands (like ls and pwd - this is relaly great on a windows system by the way) but you can also run arbitrary system commands with a '!'."
   ]
  },
  {
   "cell_type": "code",
   "execution_count": 74,
   "metadata": {
    "collapsed": false
   },
   "outputs": [
    {
     "name": "stdout",
     "output_type": "stream",
     "text": [
      "Python 2.7.8\r\n"
     ]
    }
   ],
   "source": [
    "!python --version"
   ]
  },
  {
   "cell_type": "code",
   "execution_count": 75,
   "metadata": {
    "collapsed": false
   },
   "outputs": [
    {
     "name": "stdout",
     "output_type": "stream",
     "text": [
      "PING www.google.com (64.233.169.105): 56 data bytes\n",
      "64 bytes from 64.233.169.105: icmp_seq=0 ttl=47 time=48.425 ms\n",
      "64 bytes from 64.233.169.105: icmp_seq=1 ttl=47 time=45.380 ms\n",
      "64 bytes from 64.233.169.105: icmp_seq=2 ttl=47 time=44.583 ms\n",
      "64 bytes from 64.233.169.105: icmp_seq=3 ttl=47 time=48.418 ms\n",
      "64 bytes from 64.233.169.105: icmp_seq=4 ttl=47 time=46.023 ms\n",
      "64 bytes from 64.233.169.105: icmp_seq=5 ttl=47 time=46.956 ms\n",
      "64 bytes from 64.233.169.105: icmp_seq=6 ttl=47 time=46.265 ms\n",
      "64 bytes from 64.233.169.105: icmp_seq=7 ttl=47 time=49.450 ms\n",
      "64 bytes from 64.233.169.105: icmp_seq=8 ttl=47 time=46.727 ms\n",
      "^C\n",
      "--- www.google.com ping statistics ---\n",
      "9 packets transmitted, 9 packets received, 0.0% packet loss\n",
      "round-trip min/avg/max/stddev = 44.583/46.914/49.450/1.491 ms\n",
      "\n"
     ]
    }
   ],
   "source": [
    "!ping www.google.com"
   ]
  },
  {
   "cell_type": "markdown",
   "metadata": {},
   "source": [
    "## Managing the IPython Kernel\n",
    "\n",
    "Code is run in a separate process called the IPython Kernel.  The Kernel can be interrupted or restarted.  Try running the following cell and then hit the \"Stop\" button in the toolbar above.\n"
   ]
  },
  {
   "cell_type": "code",
   "execution_count": null,
   "metadata": {
    "collapsed": true
   },
   "outputs": [],
   "source": [
    "import time\n",
    "time.sleep(10)"
   ]
  },
  {
   "cell_type": "markdown",
   "metadata": {},
   "source": [
    "If the Kernel dies you will be prompted to restart it. Here we call the low-level system libc.time routine with the wrong argument via\n",
    "ctypes to segfault the Python interpreter:"
   ]
  },
  {
   "cell_type": "code",
   "execution_count": null,
   "metadata": {
    "collapsed": true
   },
   "outputs": [],
   "source": [
    "import sys\n",
    "from ctypes import CDLL\n",
    "# This will crash a Linux or Mac system; equivalent calls can be made on Windows\n",
    "dll = 'dylib' if sys.platform == 'darwin' else 'so.6'\n",
    "libc = CDLL(\"libc.%s\" % dll) \n",
    "libc.time(-1)  # BOOM!!"
   ]
  },
  {
   "cell_type": "markdown",
   "metadata": {
    "collapsed": true
   },
   "source": [
    "#### Side note on versions\n",
    "\n",
    "There can be (and probably are) different python versions and ipython versions.  This is normal.  Don't Panic.  Everybody got their towel?"
   ]
  },
  {
   "cell_type": "code",
   "execution_count": 84,
   "metadata": {
    "collapsed": false
   },
   "outputs": [
    {
     "name": "stdout",
     "output_type": "stream",
     "text": [
      "Python 2.7.8\r\n"
     ]
    }
   ],
   "source": [
    "!python --version"
   ]
  },
  {
   "cell_type": "code",
   "execution_count": 85,
   "metadata": {
    "collapsed": false
   },
   "outputs": [
    {
     "name": "stdout",
     "output_type": "stream",
     "text": [
      "3.1.0\r\n"
     ]
    }
   ],
   "source": [
    "!ipython --version"
   ]
  },
  {
   "cell_type": "markdown",
   "metadata": {},
   "source": [
    "## I promised you latex!\n",
    "\n",
    "You just need to surround equations in markdown with '$' signs."
   ]
  },
  {
   "cell_type": "raw",
   "metadata": {},
   "source": [
    "$y = x^{2}$"
   ]
  },
  {
   "cell_type": "markdown",
   "metadata": {},
   "source": [
    "$y = x^{2}$"
   ]
  },
  {
   "cell_type": "raw",
   "metadata": {},
   "source": [
    "$\\frac{dN}{dE} = \\frac{N_{\\text peak}}{E_{\\text peak}} (E/E_{\\text peak})^{\\gamma} (e^{1 - E/E_{\\text peak}})^{\\gamma+2}$"
   ]
  },
  {
   "cell_type": "markdown",
   "metadata": {},
   "source": [
    "$\\frac{dN}{dE} = \\frac{N_{\\text peak}}{E_{\\text peak}} (E/E_{\\text peak})^{\\gamma} (e^{1 - E/E_{\\text peak}})^{\\gamma+2}$"
   ]
  },
  {
   "cell_type": "markdown",
   "metadata": {},
   "source": [
    "Note that it's using [MathJax](http://www.mathjax.org) for the rendering so if you're offline, you might not get latex."
   ]
  },
  {
   "cell_type": "markdown",
   "metadata": {},
   "source": [
    "## Running a remote file!\n",
    "\n",
    "Note: do this after the plotting bit."
   ]
  },
  {
   "cell_type": "code",
   "execution_count": 3,
   "metadata": {
    "collapsed": true
   },
   "outputs": [],
   "source": [
    "%load http://matplotlib.sourceforge.net/mpl_examples/pylab_examples/integral_demo.py"
   ]
  },
  {
   "cell_type": "markdown",
   "metadata": {},
   "source": [
    "## Debugging\n",
    "\n",
    "iPython has a powerful debugger.  Let's see how it works a bit:"
   ]
  },
  {
   "cell_type": "raw",
   "metadata": {},
   "source": [
    "In [1]: %run divide_by_zero.py\n",
    "---------------------------------------------------------------------------\n",
    "ZeroDivisionError                         Traceback (most recent call last)\n",
    "/Users/jsperki1/Desktop/gsfcpyboot/Day_01/03_Advanced_iPython/divide_by_zero.py in <module>()\n",
    "      5\n",
    "      6 if __name__ == '__main__':\n",
    "----> 7     divide_one_by(0)\n",
    "\n",
    "/Users/jsperki1/Desktop/gsfcpyboot/Day_01/03_Advanced_iPython/divide_by_zero.py in divide_one_by(divisor)\n",
    "      2\n",
    "      3 def divide_one_by(divisor):\n",
    "----> 4     return 1/divisor\n",
    "      5\n",
    "      6 if __name__ == '__main__':\n",
    "\n",
    "ZeroDivisionError: integer division or modulo by zero\n",
    "\n",
    "In [2]: %debug\n",
    "> /Users/jsperki1/Desktop/gsfcpyboot/Day_01/03_Advanced_iPython/divide_by_zero.py(4)divide_one_by()\n",
    "      3 def divide_one_by(divisor):\n",
    "----> 4     return 1/divisor\n",
    "      5\n",
    "\n",
    "ipdb> print divisor\n",
    "0\n",
    "ipdb> quit"
   ]
  },
  {
   "cell_type": "markdown",
   "metadata": {},
   "source": [
    "When iPython encounters an exception (in this case a ZeroDivisionError) it'll drop us into a pdb session if we use the %debug magic.  Commands:\n",
    "\n",
    "* ? for \"help\"\n",
    "* ? s for \"help for command s\"\n",
    "* l for \"some more context\"\n",
    "* s for \"step into\"\n",
    "* n for \"step over\"\n",
    "* c for \"continue to next breakpoint\"\n"
   ]
  },
  {
   "cell_type": "markdown",
   "metadata": {},
   "source": [
    "You can also turn on automatic debugging."
   ]
  },
  {
   "cell_type": "code",
   "execution_count": 81,
   "metadata": {
    "collapsed": false
   },
   "outputs": [
    {
     "name": "stdout",
     "output_type": "stream",
     "text": [
      "Automatic pdb calling has been turned ON\n"
     ]
    }
   ],
   "source": [
    "%pdb"
   ]
  },
  {
   "cell_type": "markdown",
   "metadata": {},
   "source": [
    "Lots of useful features in the python debugger (and could probably do with a seperate lecture).  We'll save that for another day..."
   ]
  },
  {
   "cell_type": "markdown",
   "metadata": {},
   "source": [
    "## nbconvert\n",
    "\n",
    "You can convert notebooks into lots of different formats with the nbconvert command (type 'ipython nbconvert' for all of the options).  Example:"
   ]
  },
  {
   "cell_type": "code",
   "execution_count": 83,
   "metadata": {
    "collapsed": false
   },
   "outputs": [
    {
     "name": "stdout",
     "output_type": "stream",
     "text": [
      "[NbConvertApp] Converting notebook mystuff.ipynb to pdf\n",
      "[NbConvertApp] Writing 12451 bytes to notebook.tex\n",
      "[NbConvertApp] Building PDF\n",
      "[NbConvertApp] Running pdflatex 3 times: [u'pdflatex', u'notebook.tex']\n",
      "[NbConvertApp] PDF successfully created\n",
      "[NbConvertApp] Writing 39310 bytes to mystuff.pdf\n"
     ]
    }
   ],
   "source": [
    "!ipython nbconvert mystuff.ipynb --to pdf"
   ]
  },
  {
   "cell_type": "markdown",
   "metadata": {},
   "source": [
    "## The %cython magic\n",
    "\n",
    "Probably the most important magic is the %cython magic. The %%cython magic uses manages everything using temporary files in the ~/.ipython/cython/ directory. All of the symbols in the Cython module are imported automatically by the magic.\n",
    "\n",
    "cython is a way of running c code inside iPython.  Sometimes a c function can be much faster than the equivalent function in python."
   ]
  },
  {
   "cell_type": "code",
   "execution_count": 26,
   "metadata": {
    "collapsed": false
   },
   "outputs": [
    {
     "name": "stdout",
     "output_type": "stream",
     "text": [
      "The Cython extension is already loaded. To reload it, use:\n",
      "  %reload_ext Cython\n"
     ]
    }
   ],
   "source": [
    "#Note that I had to install cython to get this to work.\n",
    "# try doing 'conda update cython' if you get an error\n",
    "\n",
    "%load_ext Cython"
   ]
  },
  {
   "cell_type": "code",
   "execution_count": 30,
   "metadata": {
    "collapsed": false
   },
   "outputs": [],
   "source": [
    "%%cython\n",
    "cimport numpy\n",
    "\n",
    "cpdef cysum(numpy.ndarray[double] A):\n",
    "    \"\"\"Compute the sum of an array\"\"\"\n",
    "    cdef double a=0\n",
    "    for i in range(A.shape[0]):\n",
    "        a += A[i]\n",
    "    return a"
   ]
  },
  {
   "cell_type": "code",
   "execution_count": 31,
   "metadata": {
    "collapsed": false
   },
   "outputs": [],
   "source": [
    "def pysum(A):\n",
    "    \"\"\"Compute the sum of an array\"\"\"\n",
    "    a = 0\n",
    "    for i in range(A.shape[0]):\n",
    "        a += A[i]\n",
    "    return a"
   ]
  },
  {
   "cell_type": "code",
   "execution_count": 32,
   "metadata": {
    "collapsed": true
   },
   "outputs": [],
   "source": [
    "import numpy as np"
   ]
  },
  {
   "cell_type": "code",
   "execution_count": 44,
   "metadata": {
    "collapsed": false
   },
   "outputs": [
    {
     "name": "stdout",
     "output_type": "stream",
     "text": [
      "==>Python 100 10000 loops, best of 3: 18.6 µs per loop\n",
      "==>np.sum 100 The slowest run took 8.76 times longer than the fastest. This could mean that an intermediate result is being cached \n",
      "100000 loops, best of 3: 3.19 µs per loop\n",
      "==>Cython 100 The slowest run took 7.01 times longer than the fastest. This could mean that an intermediate result is being cached \n",
      "1000000 loops, best of 3: 987 ns per loop\n",
      "==>Python 1000 10000 loops, best of 3: 171 µs per loop\n",
      "==>np.sum 1000 The slowest run took 7.38 times longer than the fastest. This could mean that an intermediate result is being cached \n",
      "100000 loops, best of 3: 3.65 µs per loop\n",
      "==>Cython 1000 The slowest run took 4.59 times longer than the fastest. This could mean that an intermediate result is being cached \n",
      "1000000 loops, best of 3: 1.77 µs per loop\n",
      "==>Python 10000 1000 loops, best of 3: 1.71 ms per loop\n",
      "==>np.sum 10000 The slowest run took 4.86 times longer than the fastest. This could mean that an intermediate result is being cached \n",
      "100000 loops, best of 3: 7.6 µs per loop\n",
      "==>Cython 10000 100000 loops, best of 3: 9.74 µs per loop\n"
     ]
    }
   ],
   "source": [
    "for sz in (100, 1000, 10000):\n",
    "    A = np.random.random(sz)\n",
    "    print(\"==>Python %i\" % sz, end=' ')\n",
    "    %timeit pysum(A)\n",
    "    print(\"==>np.sum %i\" % sz, end=' ')\n",
    "    %timeit A.sum()\n",
    "    print(\"==>Cython %i\" % sz, end=' ')\n",
    "    %timeit cysum(A)"
   ]
  },
  {
   "cell_type": "markdown",
   "metadata": {},
   "source": [
    "## Sharing notebooks\n",
    "\n",
    "You could send the raw notebook to a colleage, you could send them a PDF.  You could also use the nbviewer: http://nbviewer.ipython.org"
   ]
  },
  {
   "cell_type": "markdown",
   "metadata": {},
   "source": [
    "### More Information\n",
    "\n",
    "This is just the tip of the iceberg.  \n",
    "\n",
    "Good place to start: http://ipython.org\n",
    "Gallery: https://github.com/ipython/ipython/wiki/A-gallery-of-interesting-IPython-Notebooks\n",
    "Examples: http://nbviewer.ipython.org/github/ipython/ipython/blob/master/examples/Index.ipynb\n"
   ]
  },
  {
   "cell_type": "markdown",
   "metadata": {},
   "source": [
    "### Breakout\n",
    "\n",
    "Go to the [Notebook Gallery](https://github.com/ipython/ipython/wiki/A-gallery-of-interesting-IPython-Notebooks) and pick out one that looks interesting.  Download it into your working directory and run through it.  This might not work right away - you might need to install a package, you might need to debug it, and it might never work.  These notebooks will give you ideas and show some of the other features avaialble in the notebook (and other packages).\n",
    "\n",
    "We'll be wandering around to help you out.\n",
    "\n",
    "(if you can't decide, this is a good one: http://www.astro.washington.edu/users/vanderplas/Astr599/notebooks/21_IPythonParallel)"
   ]
  },
  {
   "cell_type": "code",
   "execution_count": null,
   "metadata": {
    "collapsed": true
   },
   "outputs": [],
   "source": []
  }
 ],
 "metadata": {
  "kernelspec": {
   "display_name": "Python 2",
   "language": "python",
   "name": "python2"
  },
  "language_info": {
   "codemirror_mode": {
    "name": "ipython",
    "version": 2
   },
   "file_extension": ".py",
   "mimetype": "text/x-python",
   "name": "python",
   "nbconvert_exporter": "python",
   "pygments_lexer": "ipython2",
   "version": "2.7.8"
  }
 },
 "nbformat": 4,
 "nbformat_minor": 0
}
