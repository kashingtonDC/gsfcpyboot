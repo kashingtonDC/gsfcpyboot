{
 "cells": [
  {
   "cell_type": "markdown",
   "metadata": {},
   "source": [
    "__Warning:__ Some of this material is highly opinionated."
   ]
  },
  {
   "cell_type": "markdown",
   "metadata": {},
   "source": [
    ">__Frontmatter:__ Before I say anything, let me point you to the official Style Guide for Python Code, [PEP 0008](http://www.python.org/dev/peps/pep-0008/)."
   ]
  },
  {
   "cell_type": "markdown",
   "metadata": {},
   "source": [
    "# Part 1 - [Documentation](http://docs.python-guide.org/en/latest/writing/documentation/)"
   ]
  },
  {
   "cell_type": "markdown",
   "metadata": {},
   "source": [
    "![Manuals](http://imgs.xkcd.com/comics/manuals.png)"
   ]
  },
  {
   "cell_type": "markdown",
   "metadata": {},
   "source": [
    "Documenting your code is a great practice that is usually considered [second-priority](http://zachholman.com/posts/documentation/). But, it's not. It's quite important and easy actually!"
   ]
  },
  {
   "cell_type": "markdown",
   "metadata": {},
   "source": [
    "## \\# Inline [Comments](http://www.python.org/dev/peps/pep-0008/#comments)"
   ]
  },
  {
   "cell_type": "code",
   "execution_count": 19,
   "metadata": {
    "collapsed": false
   },
   "outputs": [],
   "source": [
    "# Inline comments are good, but need to be relevant.\n",
    "# There can be comment blocks, like this section here.\n",
    "# Comments can also follow code on the same line as seen below\n",
    "# in our two examples.\n",
    "\n",
    "# Below, I adjust the border width.\n",
    "x = 2\n",
    "\n",
    "x = 3  # Compensate for border"
   ]
  },
  {
   "cell_type": "markdown",
   "metadata": {},
   "source": [
    "## Documentation Strings (aka '''[docstrings](http://www.python.org/dev/peps/pep-0257/)''')"
   ]
  },
  {
   "cell_type": "markdown",
   "metadata": {},
   "source": [
    ">A docstring is a string literal that occurs as the first statement in a module, function, class, or method definition. Such a docstring becomes the `__doc__` special attribute of that object. "
   ]
  },
  {
   "cell_type": "code",
   "execution_count": 20,
   "metadata": {
    "collapsed": false
   },
   "outputs": [],
   "source": [
    "#print __doc__"
   ]
  },
  {
   "cell_type": "code",
   "execution_count": 21,
   "metadata": {
    "collapsed": false
   },
   "outputs": [],
   "source": [
    "import os\n",
    "#print os.__doc__"
   ]
  },
  {
   "cell_type": "code",
   "execution_count": 22,
   "metadata": {
    "collapsed": false
   },
   "outputs": [],
   "source": [
    "#print os.system.__doc__"
   ]
  },
  {
   "cell_type": "markdown",
   "metadata": {},
   "source": [
    "__Breakout!__\n",
    "\n",
    "Start plaing with some docstrings inside classes, functions and at the top of your scripts. See how to generate different `__doc__` statements.\n",
    "\n",
    "---"
   ]
  },
  {
   "cell_type": "markdown",
   "metadata": {},
   "source": [
    "## [Sphinx](http://sphinx-doc.org/)"
   ]
  },
  {
   "cell_type": "markdown",
   "metadata": {},
   "source": [
    "Sphinx is a preferred choice for Python documentation. There is an `autodoc` feature that generates generic documentation and can pull code's docstrings as well. A quick [reStructuredText Primer](http://sphinx-doc.org/rest.html) is also available.\n",
    "\n",
    "* [reStructuredText](http://docutils.sourceforge.net/rst.html) markup (rst)\n",
    "* [Read the Docs](http://readthedocs.org/) free hosting\n",
    "\n",
    "---"
   ]
  },
  {
   "cell_type": "markdown",
   "metadata": {},
   "source": [
    "A little Python  documentation [humor](https://www.python.org/doc/humor/#python-vs-perl-according-to-yoda)...\n",
    "\n",
    ">__EXTERIOR: DAGOBAH -- DAY__\n",
    ">\n",
    ">           With Yoda strapped to his back, Luke climbs up one of\n",
    ">        the many thick vines that grow in the swamp until he\n",
    ">        reaches the Dagobah statistics lab. Panting heavily, he\n",
    ">        continues his exercises -- grepping, installing new\n",
    ">        packages, logging in as root, and writing replacements for\n",
    ">        two-year-old shell scripts in Python.\n",
    ">\n",
    ">__YODA:__ Code!  Yes.  A programmer's strength flows from code\n",
    ">      maintainability.  But beware of Perl.  Terse syntax... more\n",
    ">      than one way to do it...  default variables.  The dark side\n",
    ">      of code maintainability are they.  Easily they flow, quick\n",
    ">      to join you when code you write.  If once you start down the\n",
    ">      dark path, forever will it dominate your destiny, consume\n",
    ">      you it will.\n",
    ">\n",
    ">__LUKE:__ Is Perl better than Python?\n",
    ">\n",
    ">__YODA:__ No... no... no.  Quicker, easier, more seductive.\n",
    ">\n",
    ">__LUKE:__ But how will I know why Python is better than Perl?\n",
    ">\n",
    ">__YODA:__ You will know.  When your code you try to read six months\n",
    ">      from now."
   ]
  },
  {
   "cell_type": "markdown",
   "metadata": {},
   "source": [
    "## Part 2 - Version Control & Repositories"
   ]
  },
  {
   "cell_type": "markdown",
   "metadata": {},
   "source": [
    "Within a project's evolution, management of revisions, significant releases, and collaborative development becomes too large to keep renaming files or creating duplicates."
   ]
  },
  {
   "cell_type": "markdown",
   "metadata": {},
   "source": [
    "[Semantic Versioning](http://semver.org/)"
   ]
  },
  {
   "cell_type": "markdown",
   "metadata": {},
   "source": [
    "#### Version Control via Git\n",
    "\n",
    "Some really good, simple guides that we are going to use:\n",
    "\n",
    "* [git - the simple guide](http://rogerdudler.github.io/git-guide/)\n",
    "* [visual git concepts](http://onlywei.github.io/explain-git-with-d3/)\n",
    "\n",
    "More Resources:\n",
    "\n",
    "* [git](http://git-scm.com/)\n",
    "* [think-like-a-git](http://think-like-a-git.net/)\n",
    "* [git-tower book](http://www.git-tower.com/learn/git/ebook/command-line/introduction)\n",
    "* [gitref](http://gitref.org/)\n",
    "* [git immersion](http://gitimmersion.com/)"
   ]
  },
  {
   "cell_type": "markdown",
   "metadata": {},
   "source": [
    "#### Other Version Control Systems:\n",
    "\n",
    "* [Mercurial](http://mercurial.selenic.com/)\n",
    "* Apache Subversion ([svn](http://subversion.apache.org/))\n",
    "* Concurrent Versions System ([CVS](http://www.nongnu.org/cvs/))"
   ]
  },
  {
   "cell_type": "markdown",
   "metadata": {},
   "source": [
    "#### Repository Hosting\n",
    "\n",
    "You can keep repositories local only, but hosting them online for collaboration and also sharing helps with development. As you can see with our Bootcamp lectures, we have more capability to interact with our students. [GitHub](http://github.com/) is one among many hosting sites and I will not go in depth about those here."
   ]
  },
  {
   "cell_type": "markdown",
   "metadata": {},
   "source": [
    "## Part 3 - Project Structure & Packaging"
   ]
  },
  {
   "cell_type": "markdown",
   "metadata": {},
   "source": [
    "__Aside:__ Module & Package importing.\n",
    "\n",
    "When writing Python code, the file you are working on is a Python module (i.e., script.py). After putting it in a folder alongside a `__init__`.py file, it has become a Python Package. Let's see how this works:"
   ]
  },
  {
   "cell_type": "markdown",
   "metadata": {},
   "source": [
    "An example:\n",
    "\n",
    "    .\n",
    "    ./modu\n",
    "    ./modu/modu.py  # the modu module inside the modu package\n",
    "    ./modu/__init__.py"
   ]
  },
  {
   "cell_type": "code",
   "execution_count": 18,
   "metadata": {
    "collapsed": true
   },
   "outputs": [],
   "source": [
    "import modu\n",
    "# now we access modu's scripts via modu.{}\n",
    "from modu import modu\n",
    "# here we access the modu module inside the modu package"
   ]
  },
  {
   "cell_type": "markdown",
   "metadata": {},
   "source": [
    "> Any directory with an `__init__`.py file is considered a Python package."
   ]
  },
  {
   "cell_type": "code",
   "execution_count": 15,
   "metadata": {
    "collapsed": false
   },
   "outputs": [],
   "source": [
    "%%bash\n",
    "#mkdir package_name      # containing folder\n",
    "#cd package_name\n",
    "\n",
    "#touch README.md         # highest level of documentation (minimum: project name)\n",
    "#touch CHANGELOG         # optional: if included in README\n",
    "#touch LICENSE.txt       # protect your code\n",
    "#touch setup.py          # for easy_install\n",
    "#touch requirements.txt  # package dependencies\n",
    "#mkdir docs              # Sphinx\n",
    "#mkdir package_name\n",
    "#touch package_name/__init__.py  # needed for import"
   ]
  },
  {
   "cell_type": "markdown",
   "metadata": {},
   "source": [
    "    .\n",
    "    ./package_name\n",
    "    ./package_name/docs\n",
    "    ./package_name/LICENSE.txt\n",
    "    ./package_name/README.md\n",
    "    ./package_name/setup.py\n",
    "    ./package_name/requirements.txt\n",
    "    ./package_name/package_name\n",
    "    ./package_name/package_name/__init__.py"
   ]
  },
  {
   "cell_type": "markdown",
   "metadata": {},
   "source": [
    "[PyPA Sample Project](http://github.com/pypa/sampleproject) gives a sample setup.py file that we can explore:"
   ]
  },
  {
   "cell_type": "code",
   "execution_count": 16,
   "metadata": {
    "collapsed": false
   },
   "outputs": [],
   "source": [
    "# %load http://raw.githubusercontent.com/pypa/sampleproject/master/setup.py"
   ]
  },
  {
   "cell_type": "markdown",
   "metadata": {},
   "source": [
    "#### Virtual [Environments](http://docs.python-guide.org/en/latest/dev/virtualenvs/) ([virtualenv](http://virtualenv.pypa.io/en/latest/) & [virtualenvwrapper](http://virtualenvwrapper.readthedocs.org/en/latest/index.html))\n",
    "\n"
   ]
  },
  {
   "cell_type": "markdown",
   "metadata": {},
   "source": [
    "> A Virtual Environment is a tool to keep the dependencies required by different projects in separate places, by creating virtual Python environments for them."
   ]
  },
  {
   "cell_type": "code",
   "execution_count": null,
   "metadata": {
    "collapsed": true
   },
   "outputs": [],
   "source": [
    "# pip freeze > requirements.txt"
   ]
  },
  {
   "cell_type": "markdown",
   "metadata": {},
   "source": [
    "### Packaging"
   ]
  },
  {
   "cell_type": "markdown",
   "metadata": {},
   "source": [
    "There are some great guides out there and I will just point you to them to read at your convenience.\n",
    "\n",
    "* [PyPUG](http://python-packaging-user-guide.readthedocs.org/en/latest/)\n",
    "* [Packaging Your Code](http://docs.python-guide.org/en/latest/shipping/packaging/)\n",
    "* [Freezing Your Code](http://docs.python-guide.org/en/latest/shipping/freezing/)"
   ]
  },
  {
   "cell_type": "code",
   "execution_count": null,
   "metadata": {
    "collapsed": true
   },
   "outputs": [],
   "source": []
  }
 ],
 "metadata": {
  "kernelspec": {
   "display_name": "Python 2",
   "language": "python",
   "name": "python2"
  },
  "language_info": {
   "codemirror_mode": {
    "name": "ipython",
    "version": 2
   },
   "file_extension": ".py",
   "mimetype": "text/x-python",
   "name": "python",
   "nbconvert_exporter": "python",
   "pygments_lexer": "ipython2",
   "version": "2.7.6"
  }
 },
 "nbformat": 4,
 "nbformat_minor": 0
}
