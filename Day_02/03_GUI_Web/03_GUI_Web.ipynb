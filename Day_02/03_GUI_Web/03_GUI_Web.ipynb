{
 "metadata": {
  "name": "",
  "signature": "sha256:388025287486594622f33d8c5384986cb60f7259705d5f2fa8da39df75b1861a"
 },
 "nbformat": 3,
 "nbformat_minor": 0,
 "worksheets": [
  {
   "cells": [
    {
     "cell_type": "markdown",
     "metadata": {},
     "source": [
      "This is the start of this notebook."
     ]
    },
    {
     "cell_type": "code",
     "collapsed": false,
     "input": [],
     "language": "python",
     "metadata": {},
     "outputs": []
    }
   ],
   "metadata": {}
  }
 ]
}