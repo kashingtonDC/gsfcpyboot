{
 "cells": [
  {
   "cell_type": "markdown",
   "metadata": {},
   "source": [
    "# Development II:  Software Engineering and Testing\n",
    "\n",
    "John (EBo) David -- heavily borrowed from Jarrod Millman (2014)"
   ]
  },
  {
   "cell_type": "markdown",
   "metadata": {
    "collapsed": false
   },
   "source": [
    "# Before we begin...\n",
    "This example uses \"tappy\" which has not been integrated into Anaconda yet.  It can be installed with the following command:\n",
    "> pip install tap.py\n",
    "or\n",
    "> %install_ext ...\n",
    "\n",
    "# Definitions:\n",
    "- **Software Engineering** is the application of a systematic,   disciplined, quantifiable approach to the development, operation   and maintenance of software (IEEE'90)\n",
    "- **Debugging** is what you do when you know a program is broken\n",
    "- **Testing** is a determined, systematic attempt to break a program\n",
    "\n",
    "# Main Motivation:\n",
    "-    **Usability** - Users can learn it and fast and get their job done easily\n",
    "-    **Efficiency** - It doesn’t waste resources such as CPU time and memory\n",
    "-    **Reliability** - It does what it is required to do without failing\n",
    "-    **Maintainability** - It can be easily changed\n",
    "-    **Reusability** - Its parts can be used in other projects, so reprogramming is not needed\n",
    "    \n",
    "# Side Note:  Pick a license... Any License...\n",
    "[coding horror](http://blog.codinghorror.com/pick-a-license-any-license/)\n",
    "\n",
    "\n",
    "# Why Bother? <img src=\"http://blog.grio.com/wp-content/uploads/2012/11/testing-darth-vader-300x240.jpg\" width=300> I Find Your Lack of Tests Disturbing\n",
    "\n",
    "- Over 50% of a projects life-cycle is spent debugging and testing\n",
    "- Bug fixes take 33 to 40 times as long to write as new code\n",
    "- Additional 15% to 30% investment results in 40% to 90% reduction in defect density\n",
    "- Test suite itself is an asset\n",
    "\n",
    "## How do we do it? \n",
    "Reproducibility is the key\n",
    "\n",
    "### Programming By Contract\n",
    "- Formal methods\n",
    "\n",
    "### Pre- and post-condition tests\n",
    "\n",
    "-   what must be true *before* a method is invoked\n",
    "-   what must be true *after* a method is invoked\n",
    "- use assertions\n",
    "\n",
    "### Program defensively (Murphy was an optimist)\n",
    "\n",
    "-   out-of-range index\n",
    "-   division by zero\n",
    "-   error returns\n",
    "\n",
    "### Be systematic\n",
    "\n",
    "-   incremental\n",
    "-   simple things first\n",
    "-   know what to expect\n",
    "-   compare independent implementations\n",
    "\n",
    "### Automate it\n",
    "\n",
    "-   **regression tests** ensure that changes don't break existing functionality\n",
    "-   verify conservation\n",
    "-   **unit tests** (white box testing)\n",
    "-   measure test coverage\n",
    "\n",
    "## Testing in Python\n",
    "\n",
    "### Landscape\n",
    "\n",
    "-  errors, exceptions, and debugging\n",
    "-  `assert`, `doctest`, and unit tests\n",
    "-  `logging`, `unittest`, and `nose`\n"
   ]
  },
  {
   "cell_type": "markdown",
   "metadata": {},
   "source": [
    "### Errors & Exceptions\n",
    "\n",
    "#### Syntax Errors\n",
    "\n",
    "- Caught by Python parser, prior to execution\n",
    "- arrow marks the last parsed command / syntax, which gave an error"
   ]
  },
  {
   "cell_type": "code",
   "execution_count": null,
   "metadata": {
    "collapsed": false
   },
   "outputs": [],
   "source": [
    "while True print 'Hello world'"
   ]
  },
  {
   "cell_type": "markdown",
   "metadata": {},
   "source": [
    "#### Exceptions\n",
    "\n",
    "- Caught during run-time"
   ]
  },
  {
   "cell_type": "code",
   "execution_count": null,
   "metadata": {
    "collapsed": false
   },
   "outputs": [],
   "source": [
    "1/0"
   ]
  },
  {
   "cell_type": "code",
   "execution_count": null,
   "metadata": {
    "collapsed": false
   },
   "outputs": [],
   "source": [
    "factorial"
   ]
  },
  {
   "cell_type": "code",
   "execution_count": null,
   "metadata": {
    "collapsed": false
   },
   "outputs": [],
   "source": [
    "'1'+1"
   ]
  },
  {
   "cell_type": "markdown",
   "metadata": {},
   "source": [
    "#### Exception handling"
   ]
  },
  {
   "cell_type": "code",
   "execution_count": null,
   "metadata": {
    "collapsed": false
   },
   "outputs": [],
   "source": [
    "try:\n",
    "   file=open('test.txt')\n",
    "except IOError:\n",
    "   print 'No such file'"
   ]
  },
  {
   "cell_type": "markdown",
   "metadata": {},
   "source": [
    "#### Raising exceptions"
   ]
  },
  {
   "cell_type": "code",
   "execution_count": null,
   "metadata": {
    "collapsed": false
   },
   "outputs": [],
   "source": [
    "def newfunction():\n",
    "    raise NotImplementedError\n",
    "\n",
    "newfunction()"
   ]
  },
  {
   "cell_type": "markdown",
   "metadata": {},
   "source": [
    "## Fixing bugs "
   ]
  },
  {
   "cell_type": "code",
   "execution_count": null,
   "metadata": {
    "collapsed": false
   },
   "outputs": [],
   "source": [
    "def bar(y):\n",
    "    return foo(1-y)\n",
    "def foo(x):\n",
    "    print \"test and\",\n",
    "    if x==0.0:\n",
    "        print \"branch...\"\n",
    "        return float('Inf')\n",
    "    else:\n",
    "        return 1/x\n",
    "\n",
    "bar(1)\n",
    "bar(1.0)"
   ]
  },
  {
   "cell_type": "code",
   "execution_count": null,
   "metadata": {
    "collapsed": false
   },
   "outputs": [],
   "source": [
    "def foo(x):\n",
    "    try:\n",
    "        print \"test and\",\n",
    "        return 1/x\n",
    "    except ZeroDivisionError:\n",
    "        print \"trap exception...\"\n",
    "        return float('Inf')\n",
    "\n",
    "bar(1)\n",
    "bar(1.0)"
   ]
  },
  {
   "cell_type": "markdown",
   "metadata": {},
   "source": [
    "## Test as you code\n",
    "\n",
    "### Type checking  "
   ]
  },
  {
   "cell_type": "code",
   "execution_count": null,
   "metadata": {
    "collapsed": false
   },
   "outputs": [],
   "source": [
    "#i=raw_input(\"Please enter an integer: \")\n",
    "i=\"123\"\n",
    "if not isinstance(i,int):\n",
    "    print \"Casting \", i, \" to integer.\"\n",
    "    i=int(i)\n",
    "else:\n",
    "    print \"already an int:\",i"
   ]
  },
  {
   "cell_type": "markdown",
   "metadata": {},
   "source": [
    "### Assert invariants\n",
    "\n",
    "Give immediate feedback -- most implementations halt the system.  These are unrecoverable errors.\n",
    "\n",
    "Many languages allow them to be turned on/off at either compile or run time."
   ]
  },
  {
   "cell_type": "code",
   "execution_count": null,
   "metadata": {
    "collapsed": false
   },
   "outputs": [],
   "source": [
    "i=8\n",
    "if i%3 == 0:\n",
    "    print 1\n",
    "elif i%3 == 1:\n",
    "    print 2\n",
    "else:\n",
    "    assert i%3 == 2\n",
    "    print 3"
   ]
  },
  {
   "cell_type": "markdown",
   "metadata": {},
   "source": [
    "## Example\n",
    "\n",
    "Let's make a factorial function."
   ]
  },
  {
   "cell_type": "code",
   "execution_count": null,
   "metadata": {
    "collapsed": false
   },
   "outputs": [],
   "source": [
    "%%file myfactorial.py\n",
    "\n",
    "def factorial2(n):\n",
    "    \"\"\" Details to come ...\n",
    "    \"\"\"\n",
    "\n",
    "    raise NotImplementedError\n",
    "\n",
    "def test():\n",
    "     from math import factorial\n",
    "     for x in range(10):\n",
    "         print \".\",\n",
    "         assert factorial2(x) == factorial(x), \\\n",
    "                \"My factorial function is incorrect for n = %i\" % x"
   ]
  },
  {
   "cell_type": "markdown",
   "metadata": {},
   "source": [
    "### Let's test it ..."
   ]
  },
  {
   "cell_type": "code",
   "execution_count": null,
   "metadata": {
    "collapsed": false
   },
   "outputs": [],
   "source": [
    "import myfactorial\n",
    "myfactorial.test()"
   ]
  },
  {
   "cell_type": "markdown",
   "metadata": {},
   "source": [
    "Looks like we will have to implement our function, if we want to make any progress..."
   ]
  },
  {
   "cell_type": "code",
   "execution_count": null,
   "metadata": {
    "collapsed": false
   },
   "outputs": [],
   "source": [
    "%%file myfactorial.py\n",
    "\n",
    "def factorial2(n):\n",
    "    \"\"\" Details to come ...\n",
    "    \"\"\"\n",
    "\n",
    "    if n == 0:\n",
    "        return 1\n",
    "    else:\n",
    "        return n*factorial2(n-1)\n",
    "\n",
    "def test():\n",
    "     from math import factorial\n",
    "     for x in range(10):\n",
    "         assert factorial2(x) == factorial(x), \\\n",
    "                \"My factorial function is incorrect for n = %i\" % x"
   ]
  },
  {
   "cell_type": "markdown",
   "metadata": {},
   "source": [
    "### Let's test it again..."
   ]
  },
  {
   "cell_type": "code",
   "execution_count": null,
   "metadata": {
    "collapsed": false
   },
   "outputs": [],
   "source": [
    "reload(myfactorial)\n",
    "myfactorial.test()"
   ]
  },
  {
   "cell_type": "markdown",
   "metadata": {},
   "source": [
    "Hmmm.... What's going on??\n",
    "\n",
    "### What about preconditions\n",
    "\n",
    "What happens if we call `factorial2` with a negative integer?  Or something that's not an integer?"
   ]
  },
  {
   "cell_type": "code",
   "execution_count": null,
   "metadata": {
    "collapsed": false
   },
   "outputs": [],
   "source": [
    "%%file myfactorial.py\n",
    "def factorial2(n):\n",
    "    \"\"\" Find n!. Raise an AssertionError if n is negative or non-integral.\n",
    "    \"\"\"\n",
    "\n",
    "    assert n>=0. and type(n) is int, \"Unrecognized input\"\n",
    "\n",
    "    if n == 0:\n",
    "        return 1\n",
    "    else:\n",
    "        return n*factorial2(n-1)\n",
    "\n",
    "def test():\n",
    "     from math import factorial\n",
    "     for x in range(10):\n",
    "         assert factorial2(x) == factorial(x), \\\n",
    "                \"My factorial function is incorrect for n = %i\" % x"
   ]
  },
  {
   "cell_type": "code",
   "execution_count": null,
   "metadata": {
    "collapsed": false
   },
   "outputs": [],
   "source": [
    "from myfactorial import factorial2\n",
    "[factorial2(n) for n in range(5)]"
   ]
  },
  {
   "cell_type": "markdown",
   "metadata": {},
   "source": [
    "## Real world testing and continuous integration\n",
    "\n",
    "### `unittest` and `nose`\n",
    "\n",
    "#### Test fixtures\n",
    "\n",
    "-   create self-contained tests\n",
    "-   setup: open file, connect to a DB, create data structures\n",
    "-   teardown: tidy up afterward\n",
    "\n",
    "#### Test runner\n",
    "\n",
    "-   `nosetests`\n",
    "-   test discovery: any callable beginning with `test` in a module\n",
    "    beginning with `test`\n",
    "\n",
    "#### Testing scientific computing libraries"
   ]
  },
  {
   "cell_type": "code",
   "execution_count": null,
   "metadata": {
    "collapsed": false
   },
   "outputs": [],
   "source": [
    "import scipy.integrate\n",
    "scipy.integrate.test()"
   ]
  },
  {
   "cell_type": "markdown",
   "metadata": {},
   "source": [
    "### Assertions revisited"
   ]
  },
  {
   "cell_type": "markdown",
   "metadata": {},
   "source": [
    "Mathematically\n",
    "\n",
    "$ x = (\\sqrt(x))^2$.\n",
    "\n",
    "So what is happening here:"
   ]
  },
  {
   "cell_type": "code",
   "execution_count": null,
   "metadata": {
    "collapsed": false
   },
   "outputs": [],
   "source": [
    "import math\n",
    "assert 2 == math.sqrt(2)**2"
   ]
  },
  {
   "cell_type": "code",
   "execution_count": null,
   "metadata": {
    "collapsed": false
   },
   "outputs": [],
   "source": [
    "math.sqrt(2)**2"
   ]
  },
  {
   "cell_type": "markdown",
   "metadata": {},
   "source": [
    "#### NumPy Testing"
   ]
  },
  {
   "cell_type": "code",
   "execution_count": null,
   "metadata": {
    "collapsed": true
   },
   "outputs": [],
   "source": [
    "import numpy as np\n",
    "np.testing.assert_almost_equal(2, math.sqrt(2)**2)"
   ]
  },
  {
   "cell_type": "code",
   "execution_count": null,
   "metadata": {
    "collapsed": true
   },
   "outputs": [],
   "source": [
    "x=1.000001\n",
    "y=1.000002\n",
    "np.testing.assert_almost_equal(x,y, decimal=5)"
   ]
  },
  {
   "cell_type": "markdown",
   "metadata": {},
   "source": [
    "What if we consider x and y almost equal?  Can we modify our assertion?"
   ]
  },
  {
   "cell_type": "code",
   "execution_count": null,
   "metadata": {
    "collapsed": true
   },
   "outputs": [],
   "source": [
    "np.testing.assert_almost_equal?"
   ]
  },
  {
   "cell_type": "markdown",
   "metadata": {},
   "source": [
    "## Testing Philosophies\n",
    "\n",
    "xUnit / declarative testing /\n",
    "\n",
    "load testing / procedural tests /\n",
    "\n",
    "record=>replay / TDD / BDD / etc.\n",
    "\n",
    "eXtreme Programming / Agile /\n",
    "\n",
    "FIXME: reword..."
   ]
  },
  {
   "cell_type": "markdown",
   "metadata": {},
   "source": [
    "## eXtreme Programming (XP): \n",
    "**       Test to Live.  Live to Test!**"
   ]
  },
  {
   "cell_type": "markdown",
   "metadata": {},
   "source": [
    "#### Fine-scale feedback\n",
    "-    Pair programming\n",
    "-    Planning game\n",
    "-    Test-driven development\n",
    "-    Whole team owns the code\n",
    "\n",
    "#### Continuous process\n",
    "-    Continuous integration\n",
    "-    Refactoring or design improvement\n",
    "-    Small releases\n",
    "\n",
    "#### Shared understanding\n",
    "-    Coding standards\n",
    "-    Collective code ownership\n",
    "-    Simple design\n",
    "-    System metaphor\n",
    "\n",
    "#### Coding\n",
    "-    The customer is always available\n",
    "-    Code the unit test first\n",
    "-    Only one pair integrates code at a time\n",
    "-    Leave optimization until last\n",
    "\n",
    "#### Testing\n",
    "-    All code must have unit tests\n",
    "-    All code must pass all unit tests before it can be released.\n",
    "-    When a bug is found tests are created before the bug is addressed (a bug is not an error in logic, it is a test that was not written)\n",
    "-    Acceptance tests are run often and the results are published\n"
   ]
  },
  {
   "cell_type": "markdown",
   "metadata": {},
   "source": [
    "## Problem: Using them together\n",
    "-  Everything is tightly coupled\n",
    "-  Writing new tests environments is a pain\n",
    "-  Everyone has to figure out how to produce and consume test results\n",
    "\n",
    "## A solutions: The Testing Anything Protocol (TAP)\n",
    "-  Aims to help by:\n",
    "    separating code to produce and consume test results\n",
    "    \n",
    "a simple TAP example:\n"
   ]
  },
  {
   "cell_type": "raw",
   "metadata": {},
   "source": [
    "1..4\n",
    "ok 1 We can foo\n",
    "ok 2 We can bar\n",
    "not ok 3 Oh No... Br. Bill\n",
    "ok"
   ]
  },
  {
   "cell_type": "markdown",
   "metadata": {},
   "source": [
    "#### TAP: Additional Functionality\n",
    "-  TAP versions\n",
    "-  Diagnostic output\n",
    "-  TODO/SKIP tests\n",
    "-  Nested TAP (very new)\n",
    "-  Structures diagnostics (as YAML messages)\n",
    "-  Draft IETF Standard (WIP)\n"
   ]
  },
  {
   "cell_type": "code",
   "execution_count": null,
   "metadata": {
    "collapsed": false
   },
   "outputs": [],
   "source": [
    "!nosetests --with-tap myTAP.py"
   ]
  },
  {
   "cell_type": "code",
   "execution_count": null,
   "metadata": {
    "collapsed": false
   },
   "outputs": [],
   "source": [
    "!cat FunctionTestCase.tap"
   ]
  },
  {
   "cell_type": "code",
   "execution_count": null,
   "metadata": {
    "collapsed": false
   },
   "outputs": [],
   "source": [
    "!tappy FunctionTestCase.tap"
   ]
  },
  {
   "cell_type": "markdown",
   "metadata": {},
   "source": [
    "### Why Bother?\n",
    "TAP is language agnostic.  How would you integrate testing against a project with Fortran, C, and Python as well as Bash scripts?\n",
    "\n",
    "- [Bats: Bash Automated Testing System](https://github.com/sstephenson/bats)\n",
    "- [Tappy: TAP tools for Python (a nose extension)](https://tappy.readthedocs.org/en/latest/)\n",
    "- [and many more](https://testanything.org/producers.html) including Ada, Lisp, C/C++, MySQL and PostgreSQL, Erlang, Go, Java, Matlab, and comming soon to Fortran (via pFUnit).\n"
   ]
  },
  {
   "cell_type": "markdown",
   "metadata": {},
   "source": [
    "> Test Summary Report\n",
    "\n",
    "> -------------------\n",
    "\n",
    "> t/iterators.t (Tests: 92 Failed: 8)\n",
    "\n",
    "> Failed tests:  7-13, 15\n",
    "\n",
    "> t/nofork-mux.t (Tests: 6 Failed: 0)\n",
    "\n",
    "> t/regression.t (Tests: 4794 Failed: 103)\n",
    "\n",
    "> Failed tests:  2, 5, 31, 34, 58, 61, 85, 88, 114, 118, 145-146, \n",
    ">                171-172, 200-201, 226-227, 252, 255, 278-279, \n",
    ">                308, 312, 338, 342, 368-369, 395-396, 422, \n",
    ">                425, 452, 454-455, 481, 484, 509-510, 538-539, \n",
    ">                563, 567, 593, 597, 623, 627, 653, 657, 683-684, \n",
    ">                686, 690, 716, 720, 746, 749, 775-776, 803-804, \n",
    ">                831-832, 835-837, 866, 870, 896-897, 923-924, \n",
    ">                926-927, 929, 955, 958, 984, 987, 1013-1014, \n",
    ">                1040, 1043, 1069, 1073, 1099, 1102, 1126-1127, \n",
    ">                1129, 1133, 1159, 1163, 1189-1190, 1192, 1196, \n",
    ">                1222-1223, 1226-1227, 1253, 1257\n",
    "\n",
    "> Plans=47 Tests=9370\n",
    "\n",
    "> Result: FAIL"
   ]
  },
  {
   "cell_type": "code",
   "execution_count": 8,
   "metadata": {
    "collapsed": false
   },
   "outputs": [
    {
     "name": "stdout",
     "output_type": "stream",
     "text": [
      "Writing bats_tap_ex\n"
     ]
    }
   ],
   "source": [
    "%%file bats_tap_ex\n",
    "\n",
    "@test \"no arguments prints usage instructions\" {\n",
    "  run bats\n",
    "  [ $status -eq 1 ]\n",
    "  [ $(expr \"${lines[1]}\" : \"Usage:\") -ne 0 ]\n",
    "}\n",
    "\n",
    "@test \"-v and --version print version number\" {\n",
    "  run bats -v\n",
    "  [ $status -eq 0 ]\n",
    "  [ $(expr \"$output\" : \"Bats [0-9][0-9.]*\") -ne 0 ]\n",
    "}\n"
   ]
  },
  {
   "cell_type": "code",
   "execution_count": 9,
   "metadata": {
    "collapsed": false
   },
   "outputs": [
    {
     "name": "stdout",
     "output_type": "stream",
     "text": [
      "1..2\n",
      "ok 1 no arguments prints usage instructions\n",
      "ok 2 -v and --version print version number\n"
     ]
    }
   ],
   "source": [
    "!bats bats_tap_ex --tap"
   ]
  },
  {
   "cell_type": "markdown",
   "metadata": {},
   "source": [
    "### What do you do if you do not have the tools?\n",
    "Write your own tap producers..."
   ]
  },
  {
   "cell_type": "markdown",
   "metadata": {},
   "source": [
    "# Breakout Session:\n",
    "\n",
    "Assignment #1: Write a simple test and run it through nose\n",
    "\n",
    "Assignment #2: Pick a language (any language) and write a function or subroutine \"ok\" which takes the following parameters:\n",
    "\n",
    "- val -- the local truth value (ie success/fail)\n",
    "- message -- the test descriptor\n",
    "- test_num -- the test number\n",
    "\n",
    "and auto-increments test_num.\n",
    "\n",
    "Now write a couple of tests (1==1, 1==0,...)\n",
    "\n",
    "\n",
    "### What is missing?\n",
    "Add a \"plan\" -- ie \"1..\" followed by the number of tests you ran.\n"
   ]
  },
  {
   "cell_type": "markdown",
   "metadata": {},
   "source": [
    "### Coming Soon! \n",
    "- [SpinalTAP](https://bitbucket.org/john_david/spinaltap/src)\n"
   ]
  },
  {
   "cell_type": "markdown",
   "metadata": {},
   "source": [
    "### Final thoughts\n",
    "\n",
    "- [Continuous integration (SymPy)](https://github.com/sympy/sympy/pull/2399)\n",
    "- [Logging](http://docs.python.org/2/library/logging.html)\n",
    "- [Python debugger](http://docs.python.org/2/library/pdb.html)\n",
    "- [Doctest](https://docs.python.org/2/library/doctest.html)\n",
    "\n",
    "#### Learn more\n",
    "\n",
    "* [http://software-carpentry.org](http://software-carpentry.org)\n",
    "* [http://docs.python.org/library/exceptions.html](http://docs.python.org/library/exceptions.html)\n",
    "* [http://docs.python.org/library/unittest.html](http://docs.python.org/library/unittest.html)\n",
    "* [http://docs.scipy.org/doc/numpy/reference/routines.testing.html](http://docs.scipy.org/doc/numpy/reference/routines.testing.html)\n",
    "* [http://nedbatchelder.com/code/coverage](http://nedbatchelder.com/code/coverage)\n",
    "* [http://somethingaboutorange.com/mrl/projects/nose](http://somethingaboutorange.com/mrl/projects/nose)"
   ]
  }
 ],
 "metadata": {
  "kernelspec": {
   "display_name": "Python 2",
   "language": "python",
   "name": "python2"
  },
  "language_info": {
   "codemirror_mode": {
    "name": "ipython",
    "version": 2
   },
   "file_extension": ".py",
   "mimetype": "text/x-python",
   "name": "python",
   "nbconvert_exporter": "python",
   "pygments_lexer": "ipython2",
   "version": "2.7.10"
  }
 },
 "nbformat": 4,
 "nbformat_minor": 0
}
